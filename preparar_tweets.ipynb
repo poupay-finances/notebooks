{
 "cells": [
  {
   "cell_type": "code",
   "execution_count": 1,
   "id": "cccee147",
   "metadata": {},
   "outputs": [],
   "source": [
    "# imports\n",
    "import os\n",
    "from pyspark import SparkConf\n",
    "from pyspark.sql import SparkSession\n",
    "from pyspark.sql.functions import col, when, regexp_replace, monotonically_increasing_id\n",
    "from pyspark.sql.types import IntegerType, DecimalType, StringType"
   ]
  },
  {
   "cell_type": "code",
   "execution_count": 2,
   "id": "a0512117",
   "metadata": {
    "scrolled": true
   },
   "outputs": [
    {
     "name": "stderr",
     "output_type": "stream",
     "text": [
      "WARNING: An illegal reflective access operation has occurred\n",
      "WARNING: Illegal reflective access by org.apache.spark.unsafe.Platform (file:/usr/local/lib/python3.7/site-packages/pyspark/jars/spark-unsafe_2.12-3.2.1.jar) to constructor java.nio.DirectByteBuffer(long,int)\n",
      "WARNING: Please consider reporting this to the maintainers of org.apache.spark.unsafe.Platform\n",
      "WARNING: Use --illegal-access=warn to enable warnings of further illegal reflective access operations\n",
      "WARNING: All illegal access operations will be denied in a future release\n"
     ]
    },
    {
     "name": "stdout",
     "output_type": "stream",
     "text": [
      ":: loading settings :: url = jar:file:/usr/local/lib/python3.7/site-packages/pyspark/jars/ivy-2.5.0.jar!/org/apache/ivy/core/settings/ivysettings.xml\n"
     ]
    },
    {
     "name": "stderr",
     "output_type": "stream",
     "text": [
      "Ivy Default Cache set to: /root/.ivy2/cache\n",
      "The jars for the packages stored in: /root/.ivy2/jars\n",
      "org.apache.hadoop#hadoop-aws added as a dependency\n",
      "com.microsoft.azure#spark-mssql-connector_2.12 added as a dependency\n",
      ":: resolving dependencies :: org.apache.spark#spark-submit-parent-1a216ae4-cdba-4237-81fe-3a2cb6ff23eb;1.0\n",
      "\tconfs: [default]\n",
      "\tfound org.apache.hadoop#hadoop-aws;3.2.2 in central\n",
      "\tfound com.amazonaws#aws-java-sdk-bundle;1.11.563 in central\n",
      "\tfound com.microsoft.azure#spark-mssql-connector_2.12;1.2.0 in central\n",
      "\tfound com.microsoft.sqlserver#mssql-jdbc;8.4.1.jre8 in central\n",
      ":: resolution report :: resolve 434ms :: artifacts dl 12ms\n",
      "\t:: modules in use:\n",
      "\tcom.amazonaws#aws-java-sdk-bundle;1.11.563 from central in [default]\n",
      "\tcom.microsoft.azure#spark-mssql-connector_2.12;1.2.0 from central in [default]\n",
      "\tcom.microsoft.sqlserver#mssql-jdbc;8.4.1.jre8 from central in [default]\n",
      "\torg.apache.hadoop#hadoop-aws;3.2.2 from central in [default]\n",
      "\t---------------------------------------------------------------------\n",
      "\t|                  |            modules            ||   artifacts   |\n",
      "\t|       conf       | number| search|dwnlded|evicted|| number|dwnlded|\n",
      "\t---------------------------------------------------------------------\n",
      "\t|      default     |   4   |   0   |   0   |   0   ||   4   |   0   |\n",
      "\t---------------------------------------------------------------------\n",
      ":: retrieving :: org.apache.spark#spark-submit-parent-1a216ae4-cdba-4237-81fe-3a2cb6ff23eb\n",
      "\tconfs: [default]\n",
      "\t0 artifacts copied, 4 already retrieved (0kB/8ms)\n",
      "22/06/07 23:22:46 WARN NativeCodeLoader: Unable to load native-hadoop library for your platform... using builtin-java classes where applicable\n",
      "Using Spark's default log4j profile: org/apache/spark/log4j-defaults.properties\n",
      "Setting default log level to \"WARN\".\n",
      "To adjust logging level use sc.setLogLevel(newLevel). For SparkR, use setLogLevel(newLevel).\n"
     ]
    }
   ],
   "source": [
    "# iniciar spark\n",
    "conf = SparkConf()\n",
    "#conf.set('spark.jars.packages', 'org.apache.hadoop:hadoop-aws:3.2.2')\n",
    "conf.set('spark.jars.packages', 'org.apache.hadoop:hadoop-aws:3.2.2,com.microsoft.azure:spark-mssql-connector_2.12:1.2.0')\n",
    "conf.set('spark.hadoop.fs.s3a.aws.credentials.provider', 'com.amazonaws.auth.InstanceProfileCredentialsProvider')\n",
    "spark = SparkSession.builder.config(conf=conf).getOrCreate()"
   ]
  },
  {
   "cell_type": "code",
   "execution_count": 3,
   "id": "d63e5526",
   "metadata": {},
   "outputs": [],
   "source": [
    "# Variáveis S3\n",
    "bucket_bruto = 'mario-sprint3-heleno-brutos'\n",
    "bucket_tratado = 'mario-sprint3-heleno-tratados'"
   ]
  },
  {
   "cell_type": "code",
   "execution_count": 4,
   "id": "f521a91e",
   "metadata": {},
   "outputs": [],
   "source": [
    "def upload_df_s3(df, bucket_name, file_name, type_file='csv'):\n",
    "    if type_file == 'csv':\n",
    "        df.write \\\n",
    "        .option(\"header\", True) \\\n",
    "        .option(\"delimiter\",\";\") \\\n",
    "        .mode('overwrite') \\\n",
    "        .csv(f's3a://{bucket_name}/{file_name}')\n",
    "    elif type_file == 'json':\n",
    "        df.write \\\n",
    "       .mode('overwrite') \\\n",
    "       .json(f's3a://{bucket_name}/{file_name}')\n",
    "    else:\n",
    "        print('Extensão de arquivo inválida')"
   ]
  },
  {
   "cell_type": "code",
   "execution_count": 5,
   "id": "84b28424",
   "metadata": {},
   "outputs": [],
   "source": [
    "def file_to_dataframe(bucket_name, file_name, delimiter=';', file_format='csv'):\n",
    "    if file_format == 'csv':\n",
    "        return spark.read.option('delimiter', delimiter).option('header', 'true').csv(f's3a://{bucket_name}/{file_name}')\n",
    "    elif file_format == 'json':\n",
    "        return spark.read.option(\"multiline\",\"true\").json(f's3a://{bucket_name}/{file_name}')\n",
    "    else:\n",
    "        print('Formato inválido')"
   ]
  },
  {
   "cell_type": "code",
   "execution_count": 6,
   "id": "65b46096",
   "metadata": {
    "scrolled": false
   },
   "outputs": [
    {
     "name": "stderr",
     "output_type": "stream",
     "text": [
      "22/06/07 23:22:50 WARN MetricsConfig: Cannot locate configuration: tried hadoop-metrics2-s3a-file-system.properties,hadoop-metrics2.properties\n",
      "22/06/07 23:22:57 WARN package: Truncated the string representation of a plan since it was too large. This behavior can be adjusted by setting 'spark.sql.debug.maxToStringFields'.\n"
     ]
    }
   ],
   "source": [
    "# load s3 file\n",
    "file_name = 'tweetsBrutos.json'\n",
    "\n",
    "df = file_to_dataframe(bucket_bruto, file_name, file_format='json')"
   ]
  },
  {
   "cell_type": "code",
   "execution_count": 7,
   "id": "474a9cde",
   "metadata": {},
   "outputs": [
    {
     "name": "stderr",
     "output_type": "stream",
     "text": [
      "[Stage 1:===========================================================(1 + 0) / 1]\r"
     ]
    },
    {
     "name": "stdout",
     "output_type": "stream",
     "text": [
      "+-------------------+--------------------+--------------------+\n",
      "|                 id|                urls|                text|\n",
      "+-------------------+--------------------+--------------------+\n",
      "|1531283007759429632|[{https://twitter...|Depois de fazer o...|\n",
      "|1531424535723102214|[{https://twitter...|COMO ME CONQUISTA...|\n",
      "|1532510451376041984|                  []|@Luucaax5 Sim ami...|\n",
      "|1534290233671528454|[{https://twitter...|Todo cristão tem ...|\n",
      "|1532871059090857986|[{https://twitter...|@halsierino Jdjdk...|\n",
      "|1532148011257700352|[{https://twitter...|@miarspx altura: ...|\n",
      "|1531424945200406529|                  []|RT @lwtnorris: nã...|\n",
      "|1532509536912920576|                  []|RT @CarlosPSTU: @...|\n",
      "|1534292160115351552|[{https://twitter...|cadê a carne http...|\n",
      "|1532873823422402560|                  []|@teteuzada Não po...|\n",
      "|1531424149603860484|[{https://twitter...|bolo: cenoura \\ns...|\n",
      "|1532509953893728272|                  []|Fui numa manicure...|\n",
      "|1534028575317405696|[{https://twitter...|@leonardogdlima @...|\n",
      "|1532147891124547584|                  []|@agoonxg somos tu...|\n",
      "|1534291756577071107|                  []|RT @sciambrasil: ...|\n",
      "|1534031687847387137|                  []|UFPA em caos ✅\\nT...|\n",
      "|1534029451830382592|                  []|@Horopito23 @mess...|\n",
      "|1532149147079426048|                  []|@Fabiano14319293 ...|\n",
      "|1532149047900897280|                  []|@AlienNeverland ?...|\n",
      "|1532148318863773698|                  []|as coisas que eu ...|\n",
      "+-------------------+--------------------+--------------------+\n",
      "only showing top 20 rows\n",
      "\n"
     ]
    },
    {
     "name": "stderr",
     "output_type": "stream",
     "text": [
      "\r",
      "                                                                                \r"
     ]
    }
   ],
   "source": [
    "df.select('id', 'urls', 'text').distinct().show()"
   ]
  },
  {
   "cell_type": "code",
   "execution_count": 8,
   "id": "466e99cc",
   "metadata": {
    "scrolled": false
   },
   "outputs": [
    {
     "name": "stderr",
     "output_type": "stream",
     "text": [
      "                                                                                \r"
     ]
    },
    {
     "data": {
      "text/plain": [
       "698"
      ]
     },
     "execution_count": 8,
     "metadata": {},
     "output_type": "execute_result"
    }
   ],
   "source": [
    "df.distinct().count()"
   ]
  }
 ],
 "metadata": {
  "kernelspec": {
   "display_name": "Python 3 (ipykernel)",
   "language": "python",
   "name": "python3"
  },
  "language_info": {
   "codemirror_mode": {
    "name": "ipython",
    "version": 3
   },
   "file_extension": ".py",
   "mimetype": "text/x-python",
   "name": "python",
   "nbconvert_exporter": "python",
   "pygments_lexer": "ipython3",
   "version": "3.7.10"
  }
 },
 "nbformat": 4,
 "nbformat_minor": 5
}
