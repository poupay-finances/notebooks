{
 "cells": [
  {
   "cell_type": "code",
   "execution_count": 1,
   "id": "cccee147",
   "metadata": {},
   "outputs": [],
   "source": [
    "# imports\n",
    "import os\n",
    "from pyspark import SparkConf\n",
    "from pyspark.sql import SparkSession\n",
    "from pyspark.sql.functions import col, when, regexp_replace, monotonically_increasing_id\n",
    "from pyspark.sql.types import IntegerType, DecimalType, StringType"
   ]
  },
  {
   "cell_type": "code",
   "execution_count": 2,
   "id": "a0512117",
   "metadata": {
    "scrolled": true
   },
   "outputs": [
    {
     "name": "stderr",
     "output_type": "stream",
     "text": [
      "WARNING: An illegal reflective access operation has occurred\n",
      "WARNING: Illegal reflective access by org.apache.spark.unsafe.Platform (file:/usr/local/lib/python3.7/site-packages/pyspark/jars/spark-unsafe_2.12-3.2.1.jar) to constructor java.nio.DirectByteBuffer(long,int)\n",
      "WARNING: Please consider reporting this to the maintainers of org.apache.spark.unsafe.Platform\n",
      "WARNING: Use --illegal-access=warn to enable warnings of further illegal reflective access operations\n",
      "WARNING: All illegal access operations will be denied in a future release\n"
     ]
    },
    {
     "name": "stdout",
     "output_type": "stream",
     "text": [
      ":: loading settings :: url = jar:file:/usr/local/lib/python3.7/site-packages/pyspark/jars/ivy-2.5.0.jar!/org/apache/ivy/core/settings/ivysettings.xml\n"
     ]
    },
    {
     "name": "stderr",
     "output_type": "stream",
     "text": [
      "Ivy Default Cache set to: /root/.ivy2/cache\n",
      "The jars for the packages stored in: /root/.ivy2/jars\n",
      "org.apache.hadoop#hadoop-aws added as a dependency\n",
      "com.microsoft.azure#spark-mssql-connector_2.12 added as a dependency\n",
      ":: resolving dependencies :: org.apache.spark#spark-submit-parent-17189f2c-cdd9-4384-834a-5d0914a9959a;1.0\n",
      "\tconfs: [default]\n",
      "\tfound org.apache.hadoop#hadoop-aws;3.2.2 in central\n",
      "\tfound com.amazonaws#aws-java-sdk-bundle;1.11.563 in central\n",
      "\tfound com.microsoft.azure#spark-mssql-connector_2.12;1.2.0 in central\n",
      "\tfound com.microsoft.sqlserver#mssql-jdbc;8.4.1.jre8 in central\n",
      ":: resolution report :: resolve 395ms :: artifacts dl 18ms\n",
      "\t:: modules in use:\n",
      "\tcom.amazonaws#aws-java-sdk-bundle;1.11.563 from central in [default]\n",
      "\tcom.microsoft.azure#spark-mssql-connector_2.12;1.2.0 from central in [default]\n",
      "\tcom.microsoft.sqlserver#mssql-jdbc;8.4.1.jre8 from central in [default]\n",
      "\torg.apache.hadoop#hadoop-aws;3.2.2 from central in [default]\n",
      "\t---------------------------------------------------------------------\n",
      "\t|                  |            modules            ||   artifacts   |\n",
      "\t|       conf       | number| search|dwnlded|evicted|| number|dwnlded|\n",
      "\t---------------------------------------------------------------------\n",
      "\t|      default     |   4   |   0   |   0   |   0   ||   4   |   0   |\n",
      "\t---------------------------------------------------------------------\n",
      ":: retrieving :: org.apache.spark#spark-submit-parent-17189f2c-cdd9-4384-834a-5d0914a9959a\n",
      "\tconfs: [default]\n",
      "\t0 artifacts copied, 4 already retrieved (0kB/17ms)\n",
      "22/06/08 01:27:20 WARN NativeCodeLoader: Unable to load native-hadoop library for your platform... using builtin-java classes where applicable\n",
      "Using Spark's default log4j profile: org/apache/spark/log4j-defaults.properties\n",
      "Setting default log level to \"WARN\".\n",
      "To adjust logging level use sc.setLogLevel(newLevel). For SparkR, use setLogLevel(newLevel).\n"
     ]
    }
   ],
   "source": [
    "# iniciar spark\n",
    "conf = SparkConf()\n",
    "#conf.set('spark.jars.packages', 'org.apache.hadoop:hadoop-aws:3.2.2')\n",
    "conf.set('spark.jars.packages', 'org.apache.hadoop:hadoop-aws:3.2.2,com.microsoft.azure:spark-mssql-connector_2.12:1.2.0')\n",
    "conf.set('spark.hadoop.fs.s3a.aws.credentials.provider', 'com.amazonaws.auth.InstanceProfileCredentialsProvider')\n",
    "spark = SparkSession.builder.config(conf=conf).getOrCreate()"
   ]
  },
  {
   "cell_type": "code",
   "execution_count": 3,
   "id": "d63e5526",
   "metadata": {},
   "outputs": [],
   "source": [
    "# Variáveis S3\n",
    "bucket_tratado = os.environ['S3-BUCKET-TRATADOS']\n",
    "client_bucket_name = os.environ['S3-BUCKET-CLIENTE']\n",
    "\n",
    "# Variáveis Azure\n",
    "user = ''\n",
    "password = ''\n",
    "\n",
    "server_name = 'bd-tweet-dev.database.windows.net'\n",
    "data_base_name = 'BD-TWEETS'\n",
    "\n",
    "# server_name = 'poupay.database.windows.net'\n",
    "# data_base_name = 'poupay'\n",
    "\n",
    "try:\n",
    "    user = os.environ['USER']\n",
    "    password = os.environ['PASSWORD']\n",
    "except:\n",
    "    # executar o cmd 'jupyter kernelspec list' e edite o arquivo 'kernel.json' no diretório, adicionando a propriedade env\n",
    "    # que recebe um Json com as variáveis de ambiente\n",
    "    print('Defina as variáveis de ambiente USER e PASSWORD no kernel')"
   ]
  },
  {
   "cell_type": "code",
   "execution_count": 4,
   "id": "f521a91e",
   "metadata": {},
   "outputs": [],
   "source": [
    "def upload_df_s3(df, client_bucket_name, file_name, type_file='csv'):\n",
    "    if type_file == 'csv':\n",
    "        df.write \\\n",
    "       .mode('overwrite') \\\n",
    "       .csv(f's3a://{client_bucket_name}/{file_name}')\n",
    "    elif type_file == 'json':\n",
    "        df.write \\\n",
    "       .mode('overwrite') \\\n",
    "       .json(f's3a://{client_bucket_name}/{file_name}')\n",
    "    else:\n",
    "        print('Extensão de arquivo inválida')"
   ]
  },
  {
   "cell_type": "code",
   "execution_count": 5,
   "id": "2b7ec394",
   "metadata": {},
   "outputs": [],
   "source": [
    "def export_df_azure(df, table_name):\n",
    "    _df.write \\\n",
    "    .format('com.microsoft.sqlserver.jdbc.spark') \\\n",
    "    .mode('overwrite') \\\n",
    "    .option('driver', 'com.microsoft.sqlserver.jdbc.SQLServerDriver') \\\n",
    "    .option('url', f'jdbc:sqlserver://{server_name};databaseName={data_base_name};') \\\n",
    "    .option('dbtable', table_name) \\\n",
    "    .option('user', user) \\\n",
    "    .option('password', password) \\\n",
    "    .save()"
   ]
  },
  {
   "cell_type": "code",
   "execution_count": 6,
   "id": "84b28424",
   "metadata": {},
   "outputs": [],
   "source": [
    "def file_to_dataframe(bucket_name, file_name, delimiter=';', file_format='csv'):\n",
    "    if file_format == 'csv':\n",
    "        return spark.read.option('delimiter', delimiter).option('header', 'true').csv(f's3a://{bucket_name}/{file_name}')\n",
    "    elif file_format == 'json':\n",
    "        return spark.read.option(\"multiline\",\"true\").json(f's3a://{bucket_name}/{file_name}')\n",
    "    else:\n",
    "        print('Formato inválido')"
   ]
  },
  {
   "cell_type": "code",
   "execution_count": 7,
   "id": "65b46096",
   "metadata": {
    "scrolled": true
   },
   "outputs": [
    {
     "name": "stderr",
     "output_type": "stream",
     "text": [
      "22/06/08 01:27:24 WARN MetricsConfig: Cannot locate configuration: tried hadoop-metrics2-s3a-file-system.properties,hadoop-metrics2.properties\n",
      "                                                                                \r"
     ]
    }
   ],
   "source": [
    "# load s3 file\n",
    "file_name = 'meats_1991_2019'\n",
    "file_name2 = 'meat_2020_2021.csv'\n",
    "\n",
    "df_1991_2019 = file_to_dataframe(bucket_tratado, file_name)\n",
    "df_2020_2021 = file_to_dataframe(bucket_tratado, file_name2)\n",
    "df = df_1991_2019.union(df_2020_2021).distinct()"
   ]
  },
  {
   "cell_type": "code",
   "execution_count": 8,
   "id": "10a5676e",
   "metadata": {},
   "outputs": [],
   "source": [
    "# tratamento dados\n",
    "\n",
    "# coluna de pais\n",
    "df = df.withColumn('Pais', regexp_replace('Pais', 'Brazil', 'Brasil')) \\\n",
    "    .withColumn('Pais', regexp_replace('Pais', 'Germany', 'Alemanha'))\n",
    "\n",
    "# coluna de produtos\n",
    "df = df.withColumn('Produto', regexp_replace('Produto', 'Meat, cattle', 'Bovino')) \\\n",
    "    .withColumn('Produto', regexp_replace('Produto', 'Meat, chicken', 'Frango')) \\\n",
    "    .withColumn('Produto', regexp_replace('Produto', 'Meat, pig', 'Suino')) \\\n",
    "    .withColumn('Produto', regexp_replace('Produto', 'Eggs, hen, in shell', 'Ovo de Galinha')) \\\n",
    "    .withColumn('Valor', regexp_replace('Valor', ',', '.'))\n",
    "\n",
    "# tirando dados de ovos\n",
    "df = df.filter('Produto IN (\"Bovino\", \"Frango\", \"Suino\")')"
   ]
  },
  {
   "cell_type": "code",
   "execution_count": 9,
   "id": "3d86ebf5",
   "metadata": {},
   "outputs": [],
   "source": [
    "# configurando nome de coluna tabela principal\n",
    "df = df.withColumnRenamed('Pais', 'nome_pais') \\\n",
    "    .withColumnRenamed('Produto', 'nome_produto') \\\n",
    "    .withColumnRenamed('Ano', 'ano') \\\n",
    "    .withColumnRenamed('Valor', 'valor') \\\n",
    "    .sort(\"nome_pais\",\"nome_produto\", \"ano\")\n",
    "\n",
    "# df.show()"
   ]
  },
  {
   "cell_type": "code",
   "execution_count": 10,
   "id": "eb90cd4a",
   "metadata": {},
   "outputs": [],
   "source": [
    "# dataframe de países\n",
    "df_paises = df.select('nome_pais').distinct() \\\n",
    "    .withColumnRenamed('nome_pais', 'pais') \\\n",
    "    .withColumn('id_pais', (monotonically_increasing_id() + 1))\n",
    "\n",
    "# df_paises.show()"
   ]
  },
  {
   "cell_type": "code",
   "execution_count": 11,
   "id": "c9eaaff8",
   "metadata": {
    "scrolled": true
   },
   "outputs": [],
   "source": [
    "# dataframe de produtos\n",
    "df_produtos = df.select('nome_produto').distinct() \\\n",
    "    .withColumnRenamed('nome_produto', 'produto') \\\n",
    "    .withColumn('id_produto', (monotonically_increasing_id() + 1))\n",
    "\n",
    "# df_produtos.show()"
   ]
  },
  {
   "cell_type": "code",
   "execution_count": 12,
   "id": "d1da22b1",
   "metadata": {},
   "outputs": [],
   "source": [
    "# dataframe registros\n",
    "df_registros = df.join(df_paises, df.nome_pais == df_paises.pais) \\\n",
    "    .join(df_produtos, df.nome_produto == df_produtos.produto) \\\n",
    "    .select('valor', 'ano', 'id_pais', 'id_produto')\n",
    "\n",
    "# df_registros.show()"
   ]
  },
  {
   "cell_type": "code",
   "execution_count": 14,
   "id": "51f478df",
   "metadata": {},
   "outputs": [
    {
     "name": "stderr",
     "output_type": "stream",
     "text": [
      "22/06/08 01:29:05 WARN AbstractS3ACommitterFactory: Using standard FileOutputCommitter to commit work. This is slow and potentially unsafe.\n",
      "22/06/08 01:29:07 WARN AbstractS3ACommitterFactory: Using standard FileOutputCommitter to commit work. This is slow and potentially unsafe.\n",
      "                                                                                \r"
     ]
    }
   ],
   "source": [
    "# Configurações do arquivo a ser gerado no S3\n",
    "file_name = 'PAISES_MEAT'\n",
    "file_extension = 'json'\n",
    "\n",
    "# Tabela que representa o dataframe no Azure\n",
    "table_name = 'TB_PAISES'\n",
    "\n",
    "# Montando o dataframe com o nome dos campos como o da tabela\n",
    "_df = df_paises.select(\n",
    "    col('id_pais').cast(IntegerType()).alias('ID_PAIS'),\n",
    "    col('pais').alias('NOME_PAIS')\n",
    ")\n",
    "\n",
    "upload_df_s3(_df, client_bucket_name, file_name, file_extension)\n",
    "export_df_azure(df, table_name)"
   ]
  },
  {
   "cell_type": "code",
   "execution_count": 15,
   "id": "f3594fed",
   "metadata": {},
   "outputs": [
    {
     "name": "stderr",
     "output_type": "stream",
     "text": [
      "22/06/08 01:29:11 WARN AbstractS3ACommitterFactory: Using standard FileOutputCommitter to commit work. This is slow and potentially unsafe.\n",
      "22/06/08 01:29:12 WARN AbstractS3ACommitterFactory: Using standard FileOutputCommitter to commit work. This is slow and potentially unsafe.\n",
      "                                                                                \r"
     ]
    }
   ],
   "source": [
    "# Configurações do arquivo a ser gerado no S3\n",
    "file_name = 'PRODUTOS_MEAT'\n",
    "file_extension = 'json'\n",
    "\n",
    "# Tabela que representa o dataframe no Azure\n",
    "table_name = 'TB_PRODUTOS'\n",
    "\n",
    "# Montando o dataframe com o nome dos campos como o da tabela\n",
    "_df = df_produtos.select(\n",
    "    col('id_produto').cast(IntegerType()).alias('ID_PRODUTO'),\n",
    "    col('produto').alias('NOME_PRODUTO')\n",
    ")\n",
    "\n",
    "upload_df_s3(_df, client_bucket_name, file_name, file_extension)\n",
    "export_df_azure(df, table_name)"
   ]
  },
  {
   "cell_type": "code",
   "execution_count": 16,
   "id": "86c7cf5e",
   "metadata": {},
   "outputs": [
    {
     "name": "stderr",
     "output_type": "stream",
     "text": [
      "22/06/08 01:29:16 WARN AbstractS3ACommitterFactory: Using standard FileOutputCommitter to commit work. This is slow and potentially unsafe.\n",
      "22/06/08 01:29:18 WARN AbstractS3ACommitterFactory: Using standard FileOutputCommitter to commit work. This is slow and potentially unsafe.\n",
      "                                                                                \r"
     ]
    }
   ],
   "source": [
    "# Configurações do arquivo a ser gerado no S3\n",
    "file_name = 'VALOR_PRODUCAO'\n",
    "file_extension = 'csv'\n",
    "\n",
    "# Tabela que representa o dataframe no Azure\n",
    "table_name = 'TB_VALOR_PRODUCAO'\n",
    "\n",
    "# Montando o dataframe com o nome dos campos como o da tabela\n",
    "_df = df_registros.select(\n",
    "    col('valor').cast(DecimalType(17,2)).alias('VALOR_PRODUCAO'),\n",
    "    col('ano').cast(IntegerType()).alias('ANO_VENDA'),\n",
    "    col('id_pais').cast(IntegerType()).alias('ID_PAIS'),\n",
    "    col('id_produto').cast(IntegerType()).alias('ID_PRODUTO')\n",
    ")\n",
    "\n",
    "upload_df_s3(_df, client_bucket_name, file_name, file_extension)\n",
    "export_df_azure(df, table_name)"
   ]
  }
 ],
 "metadata": {
  "kernelspec": {
   "display_name": "Python 3 (ipykernel)",
   "language": "python",
   "name": "python3"
  },
  "language_info": {
   "codemirror_mode": {
    "name": "ipython",
    "version": 3
   },
   "file_extension": ".py",
   "mimetype": "text/x-python",
   "name": "python",
   "nbconvert_exporter": "python",
   "pygments_lexer": "ipython3",
   "version": "3.7.10"
  }
 },
 "nbformat": 4,
 "nbformat_minor": 5
}
