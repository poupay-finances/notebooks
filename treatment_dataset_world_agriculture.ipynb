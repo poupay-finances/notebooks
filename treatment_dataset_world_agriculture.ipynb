{
 "cells": [
  {
   "cell_type": "code",
   "execution_count": 1,
   "id": "d3abbe2c",
   "metadata": {
    "scrolled": true
   },
   "outputs": [
    {
     "name": "stdout",
     "output_type": "stream",
     "text": [
      "\u001b[33mWARNING: Running pip install with root privileges is generally not a good idea. Try `pip3 install --user` instead.\u001b[0m\n",
      "Requirement already satisfied: pandas in /usr/local/lib64/python3.7/site-packages (1.3.5)\n",
      "Requirement already satisfied: numpy>=1.17.3; platform_machine != \"aarch64\" and platform_machine != \"arm64\" and python_version < \"3.10\" in /usr/local/lib64/python3.7/site-packages (from pandas) (1.21.6)\n",
      "Requirement already satisfied: python-dateutil>=2.7.3 in /usr/local/lib/python3.7/site-packages (from pandas) (2.8.2)\n",
      "Requirement already satisfied: pytz>=2017.3 in /usr/local/lib/python3.7/site-packages (from pandas) (2022.1)\n",
      "Requirement already satisfied: six>=1.5 in /usr/local/lib/python3.7/site-packages (from python-dateutil>=2.7.3->pandas) (1.16.0)\n",
      "\u001b[33mWARNING: Running pip install with root privileges is generally not a good idea. Try `pip3 install --user` instead.\u001b[0m\n",
      "Requirement already satisfied: PyArrow in /usr/local/lib64/python3.7/site-packages (8.0.0)\n",
      "Requirement already satisfied: numpy>=1.16.6 in /usr/local/lib64/python3.7/site-packages (from PyArrow) (1.21.6)\n"
     ]
    }
   ],
   "source": [
    "!pip3 install pandas\n",
    "!pip3 install PyArrow "
   ]
  },
  {
   "cell_type": "code",
   "execution_count": 2,
   "id": "ff982d41",
   "metadata": {
    "scrolled": true
   },
   "outputs": [
    {
     "name": "stdout",
     "output_type": "stream",
     "text": [
      "env: S3ADRESS=s3a://daniel-3cco-poupay-poupay-bucket-estruturados\n",
      "env: PASSWORD_SQL=PASSWORD\n",
      "env: USER_SQL=USER\n"
     ]
    }
   ],
   "source": [
    "%env S3ADRESS=s3a://daniel-3cco-poupay-poupay-bucket-estruturados\n",
    "%env PASSWORD_SQL=PASSWORD\n",
    "%env USER_SQL=USER"
   ]
  },
  {
   "cell_type": "code",
   "execution_count": 3,
   "id": "8312fece",
   "metadata": {},
   "outputs": [],
   "source": [
    "import os\n",
    "\n",
    "S3_address = os.environ['S3ADRESS']\n",
    "password_sql = os.environ['PASSWORD_SQL']\n",
    "user_sql = os.environ['USER_SQL']"
   ]
  },
  {
   "cell_type": "code",
   "execution_count": 4,
   "id": "cccee147",
   "metadata": {
    "scrolled": false
   },
   "outputs": [
    {
     "name": "stderr",
     "output_type": "stream",
     "text": [
      "WARNING:root:'PYARROW_IGNORE_TIMEZONE' environment variable was not set. It is required to set this environment variable to '1' in both driver and executor sides if you use pyarrow>=2.0.0. pandas-on-Spark will set it for you but it does not work if there is a Spark context already launched.\n",
      "WARNING: An illegal reflective access operation has occurred\n",
      "WARNING: Illegal reflective access by org.apache.spark.unsafe.Platform (file:/usr/local/lib/python3.7/site-packages/pyspark/jars/spark-unsafe_2.12-3.2.1.jar) to constructor java.nio.DirectByteBuffer(long,int)\n",
      "WARNING: Please consider reporting this to the maintainers of org.apache.spark.unsafe.Platform\n",
      "WARNING: Use --illegal-access=warn to enable warnings of further illegal reflective access operations\n",
      "WARNING: All illegal access operations will be denied in a future release\n"
     ]
    },
    {
     "name": "stdout",
     "output_type": "stream",
     "text": [
      ":: loading settings :: url = jar:file:/usr/local/lib/python3.7/site-packages/pyspark/jars/ivy-2.5.0.jar!/org/apache/ivy/core/settings/ivysettings.xml\n"
     ]
    },
    {
     "name": "stderr",
     "output_type": "stream",
     "text": [
      "Ivy Default Cache set to: /root/.ivy2/cache\n",
      "The jars for the packages stored in: /root/.ivy2/jars\n",
      "org.apache.hadoop#hadoop-aws added as a dependency\n",
      "com.microsoft.azure#spark-mssql-connector_2.12 added as a dependency\n",
      ":: resolving dependencies :: org.apache.spark#spark-submit-parent-a85235d7-63ae-43bb-9849-14f5314a1540;1.0\n",
      "\tconfs: [default]\n",
      "\tfound org.apache.hadoop#hadoop-aws;3.2.2 in central\n",
      "\tfound com.amazonaws#aws-java-sdk-bundle;1.11.563 in central\n",
      "\tfound com.microsoft.azure#spark-mssql-connector_2.12;1.2.0 in central\n",
      "\tfound com.microsoft.sqlserver#mssql-jdbc;8.4.1.jre8 in central\n",
      ":: resolution report :: resolve 387ms :: artifacts dl 21ms\n",
      "\t:: modules in use:\n",
      "\tcom.amazonaws#aws-java-sdk-bundle;1.11.563 from central in [default]\n",
      "\tcom.microsoft.azure#spark-mssql-connector_2.12;1.2.0 from central in [default]\n",
      "\tcom.microsoft.sqlserver#mssql-jdbc;8.4.1.jre8 from central in [default]\n",
      "\torg.apache.hadoop#hadoop-aws;3.2.2 from central in [default]\n",
      "\t---------------------------------------------------------------------\n",
      "\t|                  |            modules            ||   artifacts   |\n",
      "\t|       conf       | number| search|dwnlded|evicted|| number|dwnlded|\n",
      "\t---------------------------------------------------------------------\n",
      "\t|      default     |   4   |   0   |   0   |   0   ||   4   |   0   |\n",
      "\t---------------------------------------------------------------------\n",
      ":: retrieving :: org.apache.spark#spark-submit-parent-a85235d7-63ae-43bb-9849-14f5314a1540\n",
      "\tconfs: [default]\n",
      "\t0 artifacts copied, 4 already retrieved (0kB/12ms)\n",
      "22/06/03 00:00:17 WARN NativeCodeLoader: Unable to load native-hadoop library for your platform... using builtin-java classes where applicable\n",
      "Using Spark's default log4j profile: org/apache/spark/log4j-defaults.properties\n",
      "Setting default log level to \"WARN\".\n",
      "To adjust logging level use sc.setLogLevel(newLevel). For SparkR, use setLogLevel(newLevel).\n"
     ]
    }
   ],
   "source": [
    "#iniciar spark\n",
    "from pyspark import SparkConf\n",
    "from pyspark.sql import SparkSession\n",
    "import pyspark.pandas as ps\n",
    "\n",
    "conf = SparkConf()\n",
    "#conf.set('spark.jars.packages', 'org.apache.hadoop:hadoop-aws:3.2.2')\n",
    "conf.set('spark.jars.packages', 'org.apache.hadoop:hadoop-aws:3.2.2,com.microsoft.azure:spark-mssql-connector_2.12:1.2.0')\n",
    "conf.set('spark.hadoop.fs.s3a.aws.credentials.provider', 'com.amazonaws.auth.InstanceProfileCredentialsProvider')\n",
    "spark = SparkSession.builder.config(conf=conf).config(\"spark.driver.memory\", \"15g\").getOrCreate()"
   ]
  },
  {
   "cell_type": "code",
   "execution_count": 5,
   "id": "65b46096",
   "metadata": {
    "scrolled": true
   },
   "outputs": [
    {
     "name": "stderr",
     "output_type": "stream",
     "text": [
      "22/06/03 00:00:23 WARN MetricsConfig: Cannot locate configuration: tried hadoop-metrics2-s3a-file-system.properties,hadoop-metrics2.properties\n",
      "                                                                                \r"
     ]
    }
   ],
   "source": [
    "df = spark.read.option('delimiter', ',')\\\n",
    "    .option('header', 'true')\\\n",
    "    .csv(f'{S3_address}/dados-brutos/Value_of_Production_E_All_Data_(Normalized).csv')"
   ]
  },
  {
   "cell_type": "code",
   "execution_count": 6,
   "id": "d1dc81a4",
   "metadata": {},
   "outputs": [
    {
     "name": "stdout",
     "output_type": "stream",
     "text": [
      "+---------+-----------+---------+-------------------+------------+--------------------+---------+----+-----------+------------+----+\n",
      "|Area Code|       Area|Item Code|               Item|Element Code|             Element|Year Code|Year|       Unit|       Value|Flag|\n",
      "+---------+-----------+---------+-------------------+------------+--------------------+---------+----+-----------+------------+----+\n",
      "|        2|Afghanistan|      221|Almonds, with shell|         152|Gross Production ...|     1976|1976|1000 Int. $|49550.000000|  Fc|\n",
      "|        2|Afghanistan|      221|Almonds, with shell|         152|Gross Production ...|     1977|1977|1000 Int. $|45505.000000|  Fc|\n",
      "|        2|Afghanistan|      221|Almonds, with shell|         152|Gross Production ...|     1978|1978|1000 Int. $|60673.000000|  Fc|\n",
      "|        2|Afghanistan|      221|Almonds, with shell|         152|Gross Production ...|     1979|1979|1000 Int. $|53089.000000|  Fc|\n",
      "|        2|Afghanistan|      221|Almonds, with shell|         152|Gross Production ...|     1980|1980|1000 Int. $|50055.000000|  Fc|\n",
      "|        2|Afghanistan|      221|Almonds, with shell|         152|Gross Production ...|     1981|1981|1000 Int. $|40449.000000|  Fc|\n",
      "|        2|Afghanistan|      221|Almonds, with shell|         152|Gross Production ...|     1982|1982|1000 Int. $|55617.000000|  Fc|\n",
      "|        2|Afghanistan|      221|Almonds, with shell|         152|Gross Production ...|     1983|1983|1000 Int. $|49044.000000|  Fc|\n",
      "|        2|Afghanistan|      221|Almonds, with shell|         152|Gross Production ...|     1984|1984|1000 Int. $|53089.000000|  Fc|\n",
      "|        2|Afghanistan|      221|Almonds, with shell|         152|Gross Production ...|     1985|1985|1000 Int. $|45505.000000|  Fc|\n",
      "|        2|Afghanistan|      221|Almonds, with shell|         152|Gross Production ...|     1986|1986|1000 Int. $|50561.000000|  Fc|\n",
      "|        2|Afghanistan|      221|Almonds, with shell|         152|Gross Production ...|     1987|1987|1000 Int. $|45505.000000|  Fc|\n",
      "|        2|Afghanistan|      221|Almonds, with shell|         152|Gross Production ...|     1988|1988|1000 Int. $|45505.000000|  Fc|\n",
      "|        2|Afghanistan|      221|Almonds, with shell|         152|Gross Production ...|     1989|1989|1000 Int. $|44494.000000|  Fc|\n",
      "|        2|Afghanistan|      221|Almonds, with shell|         152|Gross Production ...|     1990|1990|1000 Int. $|48033.000000|  Fc|\n",
      "|        2|Afghanistan|      221|Almonds, with shell|         152|Gross Production ...|     1991|1991|1000 Int. $|45505.000000|  Fc|\n",
      "|        2|Afghanistan|      221|Almonds, with shell|         152|Gross Production ...|     1992|1992|1000 Int. $|50055.000000|  Fc|\n",
      "|        2|Afghanistan|      221|Almonds, with shell|         152|Gross Production ...|     1993|1993|1000 Int. $|45505.000000|  Fc|\n",
      "|        2|Afghanistan|      221|Almonds, with shell|         152|Gross Production ...|     1994|1994|1000 Int. $|45505.000000|  Fc|\n",
      "|        2|Afghanistan|      221|Almonds, with shell|         152|Gross Production ...|     1995|1995|1000 Int. $|45505.000000|  Fc|\n",
      "+---------+-----------+---------+-------------------+------------+--------------------+---------+----+-----------+------------+----+\n",
      "only showing top 20 rows\n",
      "\n"
     ]
    }
   ],
   "source": [
    "df.show()"
   ]
  },
  {
   "cell_type": "code",
   "execution_count": 7,
   "id": "57cdc30d",
   "metadata": {},
   "outputs": [],
   "source": [
    "dataframe_brazil = df.filter(df.Area == 'Brazil')"
   ]
  },
  {
   "cell_type": "code",
   "execution_count": 16,
   "id": "7e639e73",
   "metadata": {
    "scrolled": true
   },
   "outputs": [],
   "source": [
    "# from pyspark.sql import functions as F\n",
    "\n",
    "# dataframe_brazil = dataframe_brazil.withColumn('Item',F.when(dataframe_brazil['Item'] == 'Meat, cattle', 'Carne, Gado')\n",
    "#                                                .when(dataframe_brazil['Item'] == 'Soybeans', 'Soja')\n",
    "#                                                .otherwise(F.col(\"Item\")))"
   ]
  },
  {
   "cell_type": "code",
   "execution_count": 17,
   "id": "bac4d286",
   "metadata": {},
   "outputs": [
    {
     "name": "stderr",
     "output_type": "stream",
     "text": [
      "\r",
      "[Stage 11:>                                                         (0 + 1) / 1]\r"
     ]
    },
    {
     "name": "stdout",
     "output_type": "stream",
     "text": [
      "+---------+------+---------+------+------------+--------------------+---------+----+-----------+------------+----+\n",
      "|Area Code|  Area|Item Code|  Item|Element Code|             Element|Year Code|Year|       Unit|       Value|Flag|\n",
      "+---------+------+---------+------+------------+--------------------+---------+----+-----------+------------+----+\n",
      "|       21|Brazil|      515|Apples|         152|Gross Production ...|     1961|1961|1000 Int. $| 9422.000000|  Fc|\n",
      "|       21|Brazil|      515|Apples|         152|Gross Production ...|     1962|1962|1000 Int. $|10667.000000|  Fc|\n",
      "|       21|Brazil|      515|Apples|         152|Gross Production ...|     1963|1963|1000 Int. $|10970.000000|  Fc|\n",
      "|       21|Brazil|      515|Apples|         152|Gross Production ...|     1964|1964|1000 Int. $| 9987.000000|  Fc|\n",
      "|       21|Brazil|      515|Apples|         152|Gross Production ...|     1965|1965|1000 Int. $|19062.000000|  Fc|\n",
      "|       21|Brazil|      515|Apples|         152|Gross Production ...|     1966|1966|1000 Int. $|11120.000000|  Fc|\n",
      "|       21|Brazil|      515|Apples|         152|Gross Production ...|     1967|1967|1000 Int. $|11699.000000|  Fc|\n",
      "|       21|Brazil|      515|Apples|         152|Gross Production ...|     1968|1968|1000 Int. $|12305.000000|  Fc|\n",
      "|       21|Brazil|      515|Apples|         152|Gross Production ...|     1969|1969|1000 Int. $|13624.000000|  Fc|\n",
      "|       21|Brazil|      515|Apples|         152|Gross Production ...|     1970|1970|1000 Int. $|14561.000000|  Fc|\n",
      "|       21|Brazil|      515|Apples|         152|Gross Production ...|     1971|1971|1000 Int. $|14142.000000|  Fc|\n",
      "|       21|Brazil|      515|Apples|         152|Gross Production ...|     1972|1972|1000 Int. $|14490.000000|  Fc|\n",
      "|       21|Brazil|      515|Apples|         152|Gross Production ...|     1973|1973|1000 Int. $|10509.000000|  Fc|\n",
      "|       21|Brazil|      515|Apples|         152|Gross Production ...|     1974|1974|1000 Int. $|12905.000000|  Fc|\n",
      "|       21|Brazil|      515|Apples|         152|Gross Production ...|     1975|1975|1000 Int. $|16139.000000|  Fc|\n",
      "|       21|Brazil|      515|Apples|         152|Gross Production ...|     1976|1976|1000 Int. $|19988.000000|  Fc|\n",
      "|       21|Brazil|      515|Apples|         152|Gross Production ...|     1977|1977|1000 Int. $|21771.000000|  Fc|\n",
      "|       21|Brazil|      515|Apples|         152|Gross Production ...|     1978|1978|1000 Int. $|24430.000000|  Fc|\n",
      "|       21|Brazil|      515|Apples|         152|Gross Production ...|     1979|1979|1000 Int. $|32615.000000|  Fc|\n",
      "|       21|Brazil|      515|Apples|         152|Gross Production ...|     1980|1980|1000 Int. $|39194.000000|  Fc|\n",
      "+---------+------+---------+------+------------+--------------------+---------+----+-----------+------------+----+\n",
      "only showing top 20 rows\n",
      "\n"
     ]
    },
    {
     "name": "stderr",
     "output_type": "stream",
     "text": [
      "\r",
      "                                                                                \r"
     ]
    }
   ],
   "source": [
    "dataframe_brazil.show()"
   ]
  },
  {
   "cell_type": "code",
   "execution_count": 20,
   "id": "718e56a6",
   "metadata": {},
   "outputs": [
    {
     "name": "stderr",
     "output_type": "stream",
     "text": [
      "\r",
      "[Stage 13:>                                                         (0 + 1) / 1]\r"
     ]
    },
    {
     "name": "stdout",
     "output_type": "stream",
     "text": [
      "+---------+------+---------+-----------+------------+--------------------+---------+----+--------+---------------+----+\n",
      "|Area Code|  Area|Item Code|       Item|Element Code|             Element|Year Code|Year|    Unit|          Value|Flag|\n",
      "+---------+------+---------+-----------+------------+--------------------+---------+----+--------+---------------+----+\n",
      "|       21|Brazil|      867|Carne, Gado|          56|Gross Production ...|     1991|1991|1000 SLC|     945.000000|  Fc|\n",
      "|       21|Brazil|      867|Carne, Gado|          56|Gross Production ...|     1992|1992|1000 SLC|    9562.000000|  Fc|\n",
      "|       21|Brazil|      867|Carne, Gado|          56|Gross Production ...|     1993|1993|1000 SLC|  229422.000000|  Fc|\n",
      "|       21|Brazil|      867|Carne, Gado|          56|Gross Production ...|     1994|1994|1000 SLC| 5916672.000000|  Fc|\n",
      "|       21|Brazil|      867|Carne, Gado|          56|Gross Production ...|     1995|1995|1000 SLC| 8782288.000000|  Fc|\n",
      "|       21|Brazil|      867|Carne, Gado|          56|Gross Production ...|     1996|1996|1000 SLC| 9045248.000000|  Fc|\n",
      "|       21|Brazil|      867|Carne, Gado|          56|Gross Production ...|     1997|1997|1000 SLC| 9456636.000000|  Fc|\n",
      "|       21|Brazil|      867|Carne, Gado|          56|Gross Production ...|     1998|1998|1000 SLC| 9931430.000000|  Fc|\n",
      "|       21|Brazil|      867|Carne, Gado|          56|Gross Production ...|     1999|1999|1000 SLC|13166505.000000|  Fc|\n",
      "|       21|Brazil|      867|Carne, Gado|          56|Gross Production ...|     2000|2000|1000 SLC|16019378.000000|  Fc|\n",
      "|       21|Brazil|      867|Carne, Gado|          56|Gross Production ...|     2001|2001|1000 SLC|18314542.000000|  Fc|\n",
      "|       21|Brazil|      867|Carne, Gado|          56|Gross Production ...|     2002|2002|1000 SLC|21267795.000000|  Fc|\n",
      "|       21|Brazil|      867|Carne, Gado|          56|Gross Production ...|     2003|2003|1000 SLC|25205226.000000|  Fc|\n",
      "|       21|Brazil|      867|Carne, Gado|          56|Gross Production ...|     2004|2004|1000 SLC|28112339.000000|  Fc|\n",
      "|       21|Brazil|      867|Carne, Gado|          56|Gross Production ...|     2005|2005|1000 SLC|29750659.000000|  Fc|\n",
      "|       21|Brazil|      867|Carne, Gado|          56|Gross Production ...|     2006|2006|1000 SLC|30395596.000000|  Fc|\n",
      "|       21|Brazil|      867|Carne, Gado|          56|Gross Production ...|     2007|2007|1000 SLC|38709876.000000|  Fc|\n",
      "|       21|Brazil|      867|Carne, Gado|          56|Gross Production ...|     2008|2008|1000 SLC|44563670.000000|  Fc|\n",
      "|       21|Brazil|      867|Carne, Gado|          56|Gross Production ...|     2009|2009|1000 SLC|44154894.000000|  Fc|\n",
      "|       21|Brazil|      867|Carne, Gado|          56|Gross Production ...|     2010|2010|1000 SLC|51428380.000000|  Fc|\n",
      "+---------+------+---------+-----------+------------+--------------------+---------+----+--------+---------------+----+\n",
      "only showing top 20 rows\n",
      "\n"
     ]
    },
    {
     "name": "stderr",
     "output_type": "stream",
     "text": [
      "\r",
      "                                                                                \r"
     ]
    }
   ],
   "source": [
    "dataframe_brazil[dataframe_brazil['Item'].isin(['Carne, Gado','Soja'])].show()"
   ]
  },
  {
   "cell_type": "code",
   "execution_count": 18,
   "id": "1f316ff9",
   "metadata": {},
   "outputs": [
    {
     "name": "stderr",
     "output_type": "stream",
     "text": [
      "\r",
      "[Stage 12:>                                                         (0 + 1) / 1]\r"
     ]
    },
    {
     "name": "stdout",
     "output_type": "stream",
     "text": [
      "+---------+------+---------+----+------------+--------------------+---------+----+-----------+--------------+----+\n",
      "|Area Code|  Area|Item Code|Item|Element Code|             Element|Year Code|Year|       Unit|         Value|Flag|\n",
      "+---------+------+---------+----+------------+--------------------+---------+----+-----------+--------------+----+\n",
      "|       21|Brazil|      236|Soja|         152|Gross Production ...|     1961|1961|1000 Int. $| 103834.000000|  Fc|\n",
      "|       21|Brazil|      236|Soja|         152|Gross Production ...|     1962|1962|1000 Int. $| 132017.000000|  Fc|\n",
      "|       21|Brazil|      236|Soja|         152|Gross Production ...|     1963|1963|1000 Int. $| 123503.000000|  Fc|\n",
      "|       21|Brazil|      236|Soja|         152|Gross Production ...|     1964|1964|1000 Int. $| 116612.000000|  Fc|\n",
      "|       21|Brazil|      236|Soja|         152|Gross Production ...|     1965|1965|1000 Int. $| 200096.000000|  Fc|\n",
      "|       21|Brazil|      236|Soja|         152|Gross Production ...|     1966|1966|1000 Int. $| 227557.000000|  Fc|\n",
      "|       21|Brazil|      236|Soja|         152|Gross Production ...|     1967|1967|1000 Int. $| 273694.000000|  Fc|\n",
      "|       21|Brazil|      236|Soja|         152|Gross Production ...|     1968|1968|1000 Int. $| 250314.000000|  Fc|\n",
      "|       21|Brazil|      236|Soja|         152|Gross Production ...|     1969|1969|1000 Int. $| 404114.000000|  Fc|\n",
      "|       21|Brazil|      236|Soja|         152|Gross Production ...|     1970|1970|1000 Int. $| 576963.000000|  Fc|\n",
      "|       21|Brazil|      236|Soja|         152|Gross Production ...|     1971|1971|1000 Int. $| 794490.000000|  Fc|\n",
      "|       21|Brazil|      236|Soja|         152|Gross Production ...|     1972|1972|1000 Int. $|1232541.000000|  Fc|\n",
      "|       21|Brazil|      236|Soja|         152|Gross Production ...|     1973|1973|1000 Int. $|1916763.000000|  Fc|\n",
      "|       21|Brazil|      236|Soja|         152|Gross Production ...|     1974|1974|1000 Int. $|3012490.000000|  Fc|\n",
      "|       21|Brazil|      236|Soja|         152|Gross Production ...|     1975|1975|1000 Int. $|3783722.000000|  Fc|\n",
      "|       21|Brazil|      236|Soja|         152|Gross Production ...|     1976|1976|1000 Int. $|4293973.000000|  Fc|\n",
      "|       21|Brazil|      236|Soja|         152|Gross Production ...|     1977|1977|1000 Int. $|4785931.000000|  Fc|\n",
      "|       21|Brazil|      236|Soja|         152|Gross Production ...|     1978|1978|1000 Int. $|3648930.000000|  Fc|\n",
      "|       21|Brazil|      236|Soja|         152|Gross Production ...|     1979|1979|1000 Int. $|3916551.000000|  Fc|\n",
      "|       21|Brazil|      236|Soja|         152|Gross Production ...|     1980|1980|1000 Int. $|5796554.000000|  Fc|\n",
      "+---------+------+---------+----+------------+--------------------+---------+----+-----------+--------------+----+\n",
      "only showing top 20 rows\n",
      "\n"
     ]
    },
    {
     "name": "stderr",
     "output_type": "stream",
     "text": [
      "\r",
      "                                                                                \r"
     ]
    }
   ],
   "source": [
    "dataframe_brazil.filter(\"Item == 'Soja'\").show()"
   ]
  },
  {
   "cell_type": "code",
   "execution_count": null,
   "id": "ca9153ee",
   "metadata": {},
   "outputs": [],
   "source": [
    "from pyspark.sql.functions import col\n",
    "from pyspark.sql.types import IntegerType, FloatType\n",
    "\n",
    "dataframe_brazil_pyspark = spark.createDataFrame(dataframe_brazil[['Area','Item','Year','Value']])\n",
    "_df = dataframe_brazil_pyspark.select(\n",
    "    col('Area').alias('AREA'),\n",
    "    col('Item').alias('ITEM'),\n",
    "    col('Year').cast(IntegerType()).alias('YEAR'),\n",
    "    col('Value').cast(FloatType()).alias('VALUE')\n",
    ")\n",
    "\n",
    "_df.write \\\n",
    "   .mode('overwrite') \\\n",
    "   .csv(f'{S3_address}/dados-tratados/brazil_tratados_from_world_agriculture')"
   ]
  },
  {
   "cell_type": "code",
   "execution_count": null,
   "id": "e0edbaba",
   "metadata": {},
   "outputs": [],
   "source": [
    "dataframe = spark.read\\\n",
    "            .csv(f\"{S3_address}/dados-tratados/brazil_tratados_from_world_agriculture\")"
   ]
  },
  {
   "cell_type": "code",
   "execution_count": null,
   "id": "ce382804",
   "metadata": {},
   "outputs": [],
   "source": [
    "dataframe = dataframe.withColumnRenamed(\"_c0\", \"Regiao\")\n",
    "dataframe = dataframe.withColumnRenamed(\"_c1\", \"Produto\")\n",
    "dataframe = dataframe.withColumnRenamed(\"_c2\", \"Ano\")\n",
    "dataframe = dataframe.withColumnRenamed(\"_c3\", \"valor $\")\n",
    "dataframe.filter(col(\"Produto\") == \"Soja\").show()"
   ]
  },
  {
   "cell_type": "code",
   "execution_count": null,
   "id": "8592280d",
   "metadata": {},
   "outputs": [],
   "source": [
    "from pyspark.sql.functions import col\n",
    "from pyspark.sql.types import DecimalType\n",
    "\n",
    "_df = dataframe.select(\n",
    "    col('Regiao').alias('regiao'),\n",
    "    col('valor $').cast(DecimalType(10,3)).alias('valor'),\n",
    "    col('produto').alias('produto'),\n",
    "    col('ano').cast(IntegerType()).alias('ano')\n",
    ")\n",
    "_df\n",
    "_df.write \\\n",
    "   .mode('overwrite') \\\n",
    "   .csv(f'{S3_address}/dados-clientes/brazil_tratados_from_world_agriculture')\n",
    "\n",
    "_df.write \\\n",
    " .format('com.microsoft.sqlserver.jdbc.spark') \\\n",
    " .mode('overwrite') \\\n",
    " .option('driver', 'com.microsoft.sqlserver.jdbc.SQLServerDriver') \\\n",
    " .option('url', 'jdbc:sqlserver://poupay-grupo05.database.windows.net;databaseName=poupay;') \\\n",
    " .option('dbtable', 'tblSoybeanData') \\\n",
    " .option('user', user_sql ) \\\n",
    " .option('password', password_sql) \\\n",
    " .save()"
   ]
  }
 ],
 "metadata": {
  "kernelspec": {
   "display_name": "Python 3 (ipykernel)",
   "language": "python",
   "name": "python3"
  },
  "language_info": {
   "codemirror_mode": {
    "name": "ipython",
    "version": 3
   },
   "file_extension": ".py",
   "mimetype": "text/x-python",
   "name": "python",
   "nbconvert_exporter": "python",
   "pygments_lexer": "ipython3",
   "version": "3.7.10"
  }
 },
 "nbformat": 4,
 "nbformat_minor": 5
}
