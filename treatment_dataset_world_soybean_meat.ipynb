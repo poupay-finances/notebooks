{
 "cells": [
  {
   "cell_type": "code",
   "execution_count": 1,
   "id": "ff982d41",
   "metadata": {
    "scrolled": true
   },
   "outputs": [
    {
     "name": "stdout",
     "output_type": "stream",
     "text": [
      "env: S3ADRESS=s3a://daniel-3cco-poupay-poupay-bucket-estruturados\n",
      "env: PASSWORD_SQL=Urubu1@@\n",
      "env: USER_SQL=urubu100\n"
     ]
    }
   ],
   "source": [
    "%env S3ADRESS=s3a://daniel-3cco-poupay-poupay-bucket-estruturados\n",
    "%env PASSWORD_SQL=Urubu1@@\n",
    "%env USER_SQL=urubu100"
   ]
  },
  {
   "cell_type": "code",
   "execution_count": 2,
   "id": "8312fece",
   "metadata": {},
   "outputs": [],
   "source": [
    "import os\n",
    "\n",
    "S3_address = os.environ['S3ADRESS']\n",
    "password_sql = os.environ['PASSWORD_SQL']\n",
    "user_sql = os.environ['USER_SQL']"
   ]
  },
  {
   "cell_type": "code",
   "execution_count": 3,
   "id": "cccee147",
   "metadata": {
    "scrolled": false
   },
   "outputs": [
    {
     "name": "stderr",
     "output_type": "stream",
     "text": [
      "WARNING:root:'PYARROW_IGNORE_TIMEZONE' environment variable was not set. It is required to set this environment variable to '1' in both driver and executor sides if you use pyarrow>=2.0.0. pandas-on-Spark will set it for you but it does not work if there is a Spark context already launched.\n",
      "WARNING: An illegal reflective access operation has occurred\n",
      "WARNING: Illegal reflective access by org.apache.spark.unsafe.Platform (file:/usr/local/lib/python3.7/site-packages/pyspark/jars/spark-unsafe_2.12-3.2.1.jar) to constructor java.nio.DirectByteBuffer(long,int)\n",
      "WARNING: Please consider reporting this to the maintainers of org.apache.spark.unsafe.Platform\n",
      "WARNING: Use --illegal-access=warn to enable warnings of further illegal reflective access operations\n",
      "WARNING: All illegal access operations will be denied in a future release\n"
     ]
    },
    {
     "name": "stdout",
     "output_type": "stream",
     "text": [
      ":: loading settings :: url = jar:file:/usr/local/lib/python3.7/site-packages/pyspark/jars/ivy-2.5.0.jar!/org/apache/ivy/core/settings/ivysettings.xml\n"
     ]
    },
    {
     "name": "stderr",
     "output_type": "stream",
     "text": [
      "Ivy Default Cache set to: /root/.ivy2/cache\n",
      "The jars for the packages stored in: /root/.ivy2/jars\n",
      "org.apache.hadoop#hadoop-aws added as a dependency\n",
      "com.microsoft.azure#spark-mssql-connector_2.12 added as a dependency\n",
      ":: resolving dependencies :: org.apache.spark#spark-submit-parent-2d3db570-8ed7-4d56-92de-949a60e4acdf;1.0\n",
      "\tconfs: [default]\n",
      "\tfound org.apache.hadoop#hadoop-aws;3.2.2 in central\n",
      "\tfound com.amazonaws#aws-java-sdk-bundle;1.11.563 in central\n",
      "\tfound com.microsoft.azure#spark-mssql-connector_2.12;1.2.0 in central\n",
      "\tfound com.microsoft.sqlserver#mssql-jdbc;8.4.1.jre8 in central\n",
      ":: resolution report :: resolve 541ms :: artifacts dl 21ms\n",
      "\t:: modules in use:\n",
      "\tcom.amazonaws#aws-java-sdk-bundle;1.11.563 from central in [default]\n",
      "\tcom.microsoft.azure#spark-mssql-connector_2.12;1.2.0 from central in [default]\n",
      "\tcom.microsoft.sqlserver#mssql-jdbc;8.4.1.jre8 from central in [default]\n",
      "\torg.apache.hadoop#hadoop-aws;3.2.2 from central in [default]\n",
      "\t---------------------------------------------------------------------\n",
      "\t|                  |            modules            ||   artifacts   |\n",
      "\t|       conf       | number| search|dwnlded|evicted|| number|dwnlded|\n",
      "\t---------------------------------------------------------------------\n",
      "\t|      default     |   4   |   0   |   0   |   0   ||   4   |   0   |\n",
      "\t---------------------------------------------------------------------\n",
      ":: retrieving :: org.apache.spark#spark-submit-parent-2d3db570-8ed7-4d56-92de-949a60e4acdf\n",
      "\tconfs: [default]\n",
      "\t0 artifacts copied, 4 already retrieved (0kB/16ms)\n",
      "22/06/07 02:24:27 WARN NativeCodeLoader: Unable to load native-hadoop library for your platform... using builtin-java classes where applicable\n",
      "Using Spark's default log4j profile: org/apache/spark/log4j-defaults.properties\n",
      "Setting default log level to \"WARN\".\n",
      "To adjust logging level use sc.setLogLevel(newLevel). For SparkR, use setLogLevel(newLevel).\n"
     ]
    }
   ],
   "source": [
    "#iniciar spark\n",
    "from pyspark import SparkConf\n",
    "from pyspark.sql import SparkSession\n",
    "import pyspark.pandas as ps\n",
    "\n",
    "conf = SparkConf()\n",
    "#conf.set('spark.jars.packages', 'org.apache.hadoop:hadoop-aws:3.2.2')\n",
    "conf.set('spark.jars.packages', 'org.apache.hadoop:hadoop-aws:3.2.2,com.microsoft.azure:spark-mssql-connector_2.12:1.2.0')\n",
    "conf.set('spark.hadoop.fs.s3a.aws.credentials.provider', 'com.amazonaws.auth.InstanceProfileCredentialsProvider')\n",
    "spark = SparkSession.builder.config(conf=conf).config(\"spark.driver.memory\", \"15g\").getOrCreate()"
   ]
  },
  {
   "cell_type": "code",
   "execution_count": 4,
   "id": "65b46096",
   "metadata": {
    "scrolled": false
   },
   "outputs": [
    {
     "name": "stderr",
     "output_type": "stream",
     "text": [
      "22/06/07 02:24:34 WARN MetricsConfig: Cannot locate configuration: tried hadoop-metrics2-s3a-file-system.properties,hadoop-metrics2.properties\n",
      "                                                                                \r"
     ]
    }
   ],
   "source": [
    "df = spark.read.option('delimiter', ',')\\\n",
    "    .option('header', 'true')\\\n",
    "    .csv(f'{S3_address}/dados-brutos/Value_of_Production_E_All_Data_(Normalized).csv')"
   ]
  },
  {
   "cell_type": "code",
   "execution_count": 5,
   "id": "cd26ee4f",
   "metadata": {},
   "outputs": [],
   "source": [
    "df = df.filter('Unit == \"1000 Int. $\"')"
   ]
  },
  {
   "cell_type": "code",
   "execution_count": 7,
   "id": "d1dc81a4",
   "metadata": {},
   "outputs": [],
   "source": [
    "dataframe = df.filter('Item in (\"Meat, cattle\", \"Soybeans\")')"
   ]
  },
  {
   "cell_type": "code",
   "execution_count": 8,
   "id": "ba0bfc4d",
   "metadata": {},
   "outputs": [
    {
     "name": "stderr",
     "output_type": "stream",
     "text": [
      "                                                                                \r"
     ]
    },
    {
     "data": {
      "text/plain": [
       "[Row(Area='Ethiopia PDR'),\n",
       " Row(Area='Germany'),\n",
       " Row(Area='China, Taiwan Province of'),\n",
       " Row(Area='Cambodia'),\n",
       " Row(Area='France'),\n",
       " Row(Area='Argentina'),\n",
       " Row(Area='Angola'),\n",
       " Row(Area='French Guyana'),\n",
       " Row(Area='Ecuador'),\n",
       " Row(Area='Albania'),\n",
       " Row(Area='Benin'),\n",
       " Row(Area='China'),\n",
       " Row(Area='Chile'),\n",
       " Row(Area='Bolivia (Plurinational State of)'),\n",
       " Row(Area='Croatia'),\n",
       " Row(Area='Czechoslovakia'),\n",
       " Row(Area='Burundi'),\n",
       " Row(Area='Gabon'),\n",
       " Row(Area='Czechia'),\n",
       " Row(Area='Bangladesh'),\n",
       " Row(Area='Bhutan'),\n",
       " Row(Area='Democratic Republic of the Congo'),\n",
       " Row(Area='China, mainland'),\n",
       " Row(Area=\"C�te d'Ivoire\"),\n",
       " Row(Area='Georgia'),\n",
       " Row(Area='Azerbaijan'),\n",
       " Row(Area='Ethiopia'),\n",
       " Row(Area='Canada'),\n",
       " Row(Area='Belize'),\n",
       " Row(Area='Brazil'),\n",
       " Row(Area='Bosnia and Herzegovina'),\n",
       " Row(Area='Australia'),\n",
       " Row(Area='Cameroon'),\n",
       " Row(Area='Bulgaria'),\n",
       " Row(Area='Austria'),\n",
       " Row(Area='Costa Rica'),\n",
       " Row(Area='Egypt'),\n",
       " Row(Area='El Salvador'),\n",
       " Row(Area='Burkina Faso'),\n",
       " Row(Area='Colombia'),\n",
       " Row(Area=\"Democratic People's Republic of Korea\"),\n",
       " Row(Area='Paraguay'),\n",
       " Row(Area='Guyana'),\n",
       " Row(Area='Malaysia'),\n",
       " Row(Area='Malawi'),\n",
       " Row(Area='Iraq'),\n",
       " Row(Area='Jordan'),\n",
       " Row(Area='Greece'),\n",
       " Row(Area='Madagascar'),\n",
       " Row(Area='Ghana'),\n",
       " Row(Area='Myanmar'),\n",
       " Row(Area='Nicaragua'),\n",
       " Row(Area='India'),\n",
       " Row(Area='Nigeria'),\n",
       " Row(Area='Italy'),\n",
       " Row(Area='Lithuania'),\n",
       " Row(Area='Morocco'),\n",
       " Row(Area='Panama'),\n",
       " Row(Area='Mexico'),\n",
       " Row(Area='Indonesia'),\n",
       " Row(Area='Guatemala'),\n",
       " Row(Area='Liberia'),\n",
       " Row(Area='Honduras'),\n",
       " Row(Area='Iran (Islamic Republic of)'),\n",
       " Row(Area='Kyrgyzstan'),\n",
       " Row(Area='North Macedonia'),\n",
       " Row(Area='Kenya'),\n",
       " Row(Area=\"Lao People's Democratic Republic\"),\n",
       " Row(Area='Japan'),\n",
       " Row(Area='New Zealand'),\n",
       " Row(Area='Nepal'),\n",
       " Row(Area='Kazakhstan'),\n",
       " Row(Area='Hungary'),\n",
       " Row(Area='Pakistan'),\n",
       " Row(Area='Mali'),\n",
       " Row(Area='World'),\n",
       " Row(Area='Senegal'),\n",
       " Row(Area='Republic of Korea'),\n",
       " Row(Area='Philippines'),\n",
       " Row(Area='Turkey'),\n",
       " Row(Area='Rwanda'),\n",
       " Row(Area='Sri Lanka'),\n",
       " Row(Area='Africa'),\n",
       " Row(Area='Togo'),\n",
       " Row(Area='Slovakia'),\n",
       " Row(Area='Peru'),\n",
       " Row(Area='Timor-Leste'),\n",
       " Row(Area='Tajikistan'),\n",
       " Row(Area='United Republic of Tanzania'),\n",
       " Row(Area='Serbia and Montenegro'),\n",
       " Row(Area='Yugoslav SFR'),\n",
       " Row(Area='Suriname'),\n",
       " Row(Area='Spain'),\n",
       " Row(Area='Russian Federation'),\n",
       " Row(Area='Venezuela (Bolivarian Republic of)'),\n",
       " Row(Area='Thailand'),\n",
       " Row(Area='Ukraine'),\n",
       " Row(Area='Eastern Africa'),\n",
       " Row(Area='Western Africa'),\n",
       " Row(Area='United States of America'),\n",
       " Row(Area='Uruguay'),\n",
       " Row(Area='Zimbabwe'),\n",
       " Row(Area='Northern Africa'),\n",
       " Row(Area='Uganda'),\n",
       " Row(Area='Southern Africa'),\n",
       " Row(Area='Switzerland'),\n",
       " Row(Area='Zambia'),\n",
       " Row(Area='USSR'),\n",
       " Row(Area='Uzbekistan'),\n",
       " Row(Area='Slovenia'),\n",
       " Row(Area='Viet Nam'),\n",
       " Row(Area='Poland'),\n",
       " Row(Area='Republic of Moldova'),\n",
       " Row(Area='Romania'),\n",
       " Row(Area='Middle Africa'),\n",
       " Row(Area='Serbia'),\n",
       " Row(Area='South Africa'),\n",
       " Row(Area='Syrian Arab Republic'),\n",
       " Row(Area='Least Developed Countries'),\n",
       " Row(Area='Low Income Food Deficit Countries'),\n",
       " Row(Area='Europe'),\n",
       " Row(Area='Eastern Europe'),\n",
       " Row(Area='Southern Europe'),\n",
       " Row(Area='Central Asia'),\n",
       " Row(Area='Central America'),\n",
       " Row(Area='Land Locked Developing Countries'),\n",
       " Row(Area='Northern America'),\n",
       " Row(Area='Australia and New Zealand'),\n",
       " Row(Area='Northern Europe'),\n",
       " Row(Area='European Union (28)'),\n",
       " Row(Area='South-eastern Asia'),\n",
       " Row(Area='South America'),\n",
       " Row(Area='Southern Asia'),\n",
       " Row(Area='Americas'),\n",
       " Row(Area='Western Europe'),\n",
       " Row(Area='Western Asia'),\n",
       " Row(Area='European Union (27)'),\n",
       " Row(Area='Oceania'),\n",
       " Row(Area='Net Food Importing Developing Countries'),\n",
       " Row(Area='Asia'),\n",
       " Row(Area='Eastern Asia'),\n",
       " Row(Area='Small Island Developing States')]"
      ]
     },
     "execution_count": 8,
     "metadata": {},
     "output_type": "execute_result"
    }
   ],
   "source": [
    "dataframe.select('Area').distinct().collect()"
   ]
  },
  {
   "cell_type": "code",
   "execution_count": 9,
   "id": "02ded81e",
   "metadata": {
    "scrolled": false
   },
   "outputs": [],
   "source": [
    "dataframe_country = \\\n",
    "dataframe[dataframe.Area.isin('India', 'China', 'United States of America', 'Brazil', 'Argentina')]"
   ]
  },
  {
   "cell_type": "code",
   "execution_count": 10,
   "id": "9eb1cb22",
   "metadata": {},
   "outputs": [],
   "source": [
    "from pyspark.sql.functions import col, when\n",
    "from pyspark.sql.types import IntegerType, FloatType"
   ]
  },
  {
   "cell_type": "code",
   "execution_count": null,
   "id": "97a34399",
   "metadata": {},
   "outputs": [],
   "source": []
  },
  {
   "cell_type": "code",
   "execution_count": 11,
   "id": "ba848da2",
   "metadata": {},
   "outputs": [],
   "source": [
    "dataframe_country = dataframe_country.withColumn('Item', when(dataframe_country.Item == 'Soybeans', 'Soja')\n",
    "                             .when(dataframe_country.Item == 'Meat, cattle', \"Carne bovina\")\n",
    "                             .otherwise(col('Item')))"
   ]
  },
  {
   "cell_type": "code",
   "execution_count": 12,
   "id": "505519fe",
   "metadata": {},
   "outputs": [],
   "source": [
    "dataframe_country = dataframe_country.withColumn('Area',when(dataframe_country.Area == 'United States of America', \"EUA\")\n",
    "                             .when(dataframe_country.Area == 'Brazil', \"Brasil\")\n",
    "                             .otherwise(col('Area')))"
   ]
  },
  {
   "cell_type": "code",
   "execution_count": 13,
   "id": "42ef1452",
   "metadata": {},
   "outputs": [],
   "source": [
    "dataframe_country = dataframe_country.withColumn('Value', col('Value').cast(FloatType())) \n",
    "dataframe_country = dataframe_country.groupBy(['Year', 'Area', 'Item']).sum(\"Value\").withColumnRenamed('sum(Value)', 'Value')"
   ]
  },
  {
   "cell_type": "code",
   "execution_count": 14,
   "id": "95918932",
   "metadata": {},
   "outputs": [
    {
     "name": "stderr",
     "output_type": "stream",
     "text": [
      "[Stage 6:============================================>              (3 + 1) / 4]\r"
     ]
    },
    {
     "name": "stdout",
     "output_type": "stream",
     "text": [
      "+----+---------+----+-----------+\n",
      "|Year|     Area|Item|      Value|\n",
      "+----+---------+----+-----------+\n",
      "|2017|Argentina|Soja|2.1024684E7|\n",
      "|1978|Argentina|Soja|   956161.0|\n",
      "|1980|Argentina|Soja|  1338625.0|\n",
      "|1994|Argentina|Soja|  4482443.0|\n",
      "|1971|   Brasil|Soja|   794490.0|\n",
      "|1983|Argentina|Soja|  1529857.0|\n",
      "|1989|Argentina|Soja|  2486018.0|\n",
      "|2005|Argentina|Soja|1.4644459E7|\n",
      "|1968|    China|Soja|  3102931.0|\n",
      "|2000|    China|Soja|  5893505.0|\n",
      "|1975|Argentina|Soja|   185495.0|\n",
      "|1993|Argentina|Soja|  4224471.0|\n",
      "|1966|   Brasil|Soja|   227557.0|\n",
      "|1981|   Brasil|Soja|  5739782.0|\n",
      "|1971|    China|Soja|  3316344.0|\n",
      "|1979|Argentina|Soja|  1415118.0|\n",
      "|1985|    China|Soja|  4020545.0|\n",
      "|1976|Argentina|Soja|   265813.0|\n",
      "|2009|Argentina|Soja|1.1853861E7|\n",
      "|1962|Argentina|Soja|     4291.0|\n",
      "+----+---------+----+-----------+\n",
      "only showing top 20 rows\n",
      "\n"
     ]
    },
    {
     "name": "stderr",
     "output_type": "stream",
     "text": [
      "\r",
      "                                                                                \r"
     ]
    }
   ],
   "source": [
    "dataframe_country.show()"
   ]
  },
  {
   "cell_type": "code",
   "execution_count": 15,
   "id": "ca9153ee",
   "metadata": {
    "scrolled": false
   },
   "outputs": [
    {
     "name": "stderr",
     "output_type": "stream",
     "text": [
      "22/06/07 02:25:14 WARN AbstractS3ACommitterFactory: Using standard FileOutputCommitter to commit work. This is slow and potentially unsafe.\n",
      "22/06/07 02:25:23 WARN AbstractS3ACommitterFactory: Using standard FileOutputCommitter to commit work. This is slow and potentially unsafe.\n",
      "                                                                                \r"
     ]
    }
   ],
   "source": [
    "\n",
    "dataframe_formated = dataframe_country[['Area','Item','Year','Value']]\n",
    "_df = dataframe_formated.select(\n",
    "    col('Area').alias('AREA'),\n",
    "    col('Item').alias('ITEM'),\n",
    "    col('Year').cast(IntegerType()).alias('YEAR'),\n",
    "    col('Value').cast(FloatType()).alias('VALUE')\n",
    ")\n",
    "\n",
    "_df.write \\\n",
    "   .mode('overwrite') \\\n",
    "   .csv(f'{S3_address}/dados-tratados/world_meat_soybean_data')"
   ]
  },
  {
   "cell_type": "code",
   "execution_count": 16,
   "id": "e0edbaba",
   "metadata": {},
   "outputs": [],
   "source": [
    "dataframe = spark.read\\\n",
    "            .csv(f\"{S3_address}/dados-tratados/world_meat_soybean_data\")"
   ]
  },
  {
   "cell_type": "code",
   "execution_count": 17,
   "id": "ce382804",
   "metadata": {},
   "outputs": [],
   "source": [
    "dataframe = dataframe.withColumnRenamed(\"_c0\", \"pais\")\n",
    "dataframe = dataframe.withColumnRenamed(\"_c1\", \"item\")\n",
    "dataframe = dataframe.withColumnRenamed(\"_c2\", \"ano\")\n",
    "dataframe = dataframe.withColumnRenamed(\"_c3\", \"valor\")"
   ]
  },
  {
   "cell_type": "code",
   "execution_count": 18,
   "id": "3f02b60f",
   "metadata": {},
   "outputs": [
    {
     "data": {
      "text/plain": [
       "295"
      ]
     },
     "execution_count": 18,
     "metadata": {},
     "output_type": "execute_result"
    }
   ],
   "source": [
    "dataframe = dataframe.withColumn('valor', col('valor').cast(FloatType())) \n",
    "dataframe = dataframe.groupBy(['ano', 'pais', 'item']).sum(\"valor\").withColumnRenamed('sum(valor)', 'valor')\n",
    "dataframe.count()"
   ]
  },
  {
   "cell_type": "code",
   "execution_count": 19,
   "id": "0212c3fd",
   "metadata": {},
   "outputs": [
    {
     "name": "stdout",
     "output_type": "stream",
     "text": [
      "+----+---------+----+-----------+\n",
      "| ano|     pais|item|      valor|\n",
      "+----+---------+----+-----------+\n",
      "|2018|    India|Soja|  4181470.0|\n",
      "|2018|   Brasil|Soja|  4.50973E7|\n",
      "|2018|    China|Soja|  6108530.0|\n",
      "|2018|Argentina|Soja|1.4452532E7|\n",
      "|2018|      EUA|Soja|4.6092488E7|\n",
      "+----+---------+----+-----------+\n",
      "\n"
     ]
    }
   ],
   "source": [
    "dataframe.filter('ano == 2018').show()"
   ]
  },
  {
   "cell_type": "code",
   "execution_count": 20,
   "id": "8592280d",
   "metadata": {},
   "outputs": [
    {
     "name": "stderr",
     "output_type": "stream",
     "text": [
      "22/06/07 02:25:27 WARN AbstractS3ACommitterFactory: Using standard FileOutputCommitter to commit work. This is slow and potentially unsafe.\n",
      "22/06/07 02:25:28 WARN AbstractS3ACommitterFactory: Using standard FileOutputCommitter to commit work. This is slow and potentially unsafe.\n",
      "                                                                                \r"
     ]
    }
   ],
   "source": [
    "from pyspark.sql.functions import col\n",
    "from pyspark.sql.types import DecimalType\n",
    "\n",
    "_df = dataframe.select(\n",
    "    col('pais').alias('pais'),\n",
    "    col('valor').alias('valor'),\n",
    "    col('item').alias('produto'),\n",
    "    col('ano').cast(IntegerType()).alias('ano')\n",
    ")\n",
    "\n",
    "_df.write \\\n",
    "   .mode('overwrite') \\\n",
    "   .csv(f'{S3_address}/dados-clientes/world_meat_soybean_data')\n",
    "\n",
    "_df.write \\\n",
    " .format('com.microsoft.sqlserver.jdbc.spark') \\\n",
    " .mode('overwrite') \\\n",
    " .option('driver', 'com.microsoft.sqlserver.jdbc.SQLServerDriver') \\\n",
    " .option('url', 'jdbc:sqlserver://poupay-01.database.windows.net;databaseName=poupay;') \\\n",
    " .option('dbtable', 'pais_producao') \\\n",
    " .option('user', user_sql ) \\\n",
    " .option('password', password_sql) \\\n",
    " .save()"
   ]
  }
 ],
 "metadata": {
  "kernelspec": {
   "display_name": "Python 3 (ipykernel)",
   "language": "python",
   "name": "python3"
  },
  "language_info": {
   "codemirror_mode": {
    "name": "ipython",
    "version": 3
   },
   "file_extension": ".py",
   "mimetype": "text/x-python",
   "name": "python",
   "nbconvert_exporter": "python",
   "pygments_lexer": "ipython3",
   "version": "3.7.10"
  }
 },
 "nbformat": 4,
 "nbformat_minor": 5
}
